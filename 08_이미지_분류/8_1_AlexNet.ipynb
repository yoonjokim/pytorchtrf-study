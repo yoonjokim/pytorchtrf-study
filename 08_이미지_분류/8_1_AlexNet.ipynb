{
  "nbformat": 4,
  "nbformat_minor": 0,
  "metadata": {
    "colab": {
      "provenance": []
    },
    "kernelspec": {
      "name": "python3",
      "display_name": "Python 3"
    },
    "language_info": {
      "name": "python"
    }
  },
  "cells": [
    {
      "cell_type": "code",
      "source": [
        "!pip install torchinfo"
      ],
      "metadata": {
        "colab": {
          "base_uri": "https://localhost:8080/"
        },
        "id": "KxptweDYxLM3",
        "outputId": "d7e89086-7540-4018-8a38-2284d9a2b9ef"
      },
      "execution_count": 2,
      "outputs": [
        {
          "output_type": "stream",
          "name": "stdout",
          "text": [
            "Collecting torchinfo\n",
            "  Downloading torchinfo-1.8.0-py3-none-any.whl (23 kB)\n",
            "Installing collected packages: torchinfo\n",
            "Successfully installed torchinfo-1.8.0\n"
          ]
        }
      ]
    },
    {
      "cell_type": "code",
      "execution_count": 5,
      "metadata": {
        "colab": {
          "base_uri": "https://localhost:8080/"
        },
        "id": "BV8my8q8w7Li",
        "outputId": "a93c172f-1e21-4cc6-c1ab-25e66dd1c39a"
      },
      "outputs": [
        {
          "output_type": "execute_result",
          "data": {
            "text/plain": [
              "==========================================================================================\n",
              "Layer (type:depth-idx)                   Output Shape              Param #\n",
              "==========================================================================================\n",
              "AlexNet                                  [1, 1000]                 --\n",
              "├─Sequential: 1-1                        [1, 256, 6, 6]            --\n",
              "│    └─Conv2d: 2-1                       [1, 64, 55, 55]           23,296\n",
              "│    └─ReLU: 2-2                         [1, 64, 55, 55]           --\n",
              "│    └─MaxPool2d: 2-3                    [1, 64, 27, 27]           --\n",
              "│    └─Conv2d: 2-4                       [1, 192, 27, 27]          307,392\n",
              "│    └─ReLU: 2-5                         [1, 192, 27, 27]          --\n",
              "│    └─MaxPool2d: 2-6                    [1, 192, 13, 13]          --\n",
              "│    └─Conv2d: 2-7                       [1, 384, 13, 13]          663,936\n",
              "│    └─ReLU: 2-8                         [1, 384, 13, 13]          --\n",
              "│    └─Conv2d: 2-9                       [1, 256, 13, 13]          884,992\n",
              "│    └─ReLU: 2-10                        [1, 256, 13, 13]          --\n",
              "│    └─Conv2d: 2-11                      [1, 256, 13, 13]          590,080\n",
              "│    └─ReLU: 2-12                        [1, 256, 13, 13]          --\n",
              "│    └─MaxPool2d: 2-13                   [1, 256, 6, 6]            --\n",
              "├─AdaptiveAvgPool2d: 1-2                 [1, 256, 6, 6]            --\n",
              "├─Sequential: 1-3                        [1, 1000]                 --\n",
              "│    └─Dropout: 2-14                     [1, 9216]                 --\n",
              "│    └─Linear: 2-15                      [1, 4096]                 37,752,832\n",
              "│    └─ReLU: 2-16                        [1, 4096]                 --\n",
              "│    └─Dropout: 2-17                     [1, 4096]                 --\n",
              "│    └─Linear: 2-18                      [1, 4096]                 16,781,312\n",
              "│    └─ReLU: 2-19                        [1, 4096]                 --\n",
              "│    └─Linear: 2-20                      [1, 1000]                 4,097,000\n",
              "==========================================================================================\n",
              "Total params: 61,100,840\n",
              "Trainable params: 61,100,840\n",
              "Non-trainable params: 0\n",
              "Total mult-adds (M): 714.68\n",
              "==========================================================================================\n",
              "Input size (MB): 0.60\n",
              "Forward/backward pass size (MB): 3.95\n",
              "Params size (MB): 244.40\n",
              "Estimated Total Size (MB): 248.96\n",
              "=========================================================================================="
            ]
          },
          "metadata": {},
          "execution_count": 5
        }
      ],
      "source": [
        "from torchvision import models\n",
        "from torchinfo import summary\n",
        "\n",
        "# ImageNet 데이터에 pretrain된 AlexNet 모델 불러오기, 모델 구조 확인\n",
        "model = models.alexnet(weights=\"AlexNet_Weights.IMAGENET1K_V1\")\n",
        "summary(model, (1, 3, 224, 224), device=\"cpu\")"
      ]
    },
    {
      "cell_type": "code",
      "source": [
        "# ImageNet 데이터 클래스 정보 확인하기\n",
        "with open(\"./datasets/imagenet_classes.txt\", \"r\") as file:\n",
        "    classes = file.read().splitlines()\n",
        "\n",
        "print(f\"클래스 개수 : {len(classes)}\")\n",
        "print(f\"첫 번째 클래스 레이블 : {classes[0]}\")"
      ],
      "metadata": {
        "colab": {
          "base_uri": "https://localhost:8080/"
        },
        "id": "IwYbMWMyxy_6",
        "outputId": "6d26f174-1f24-493d-9dca-632856a38358"
      },
      "execution_count": 7,
      "outputs": [
        {
          "output_type": "stream",
          "name": "stdout",
          "text": [
            "클래스 개수 : 1000\n",
            "첫 번째 클래스 레이블 : tench\n"
          ]
        }
      ]
    },
    {
      "cell_type": "code",
      "source": [
        "import torch\n",
        "from PIL import Image\n",
        "from torchvision import models, transforms\n",
        "\n",
        "# 데이터에 어떤 transform을 줄지\n",
        "transform = transforms.Compose(\n",
        "    [\n",
        "        transforms.Resize((224, 224)),\n",
        "        transforms.ToTensor(),\n",
        "        transforms.Normalize(\n",
        "            mean=[0.485, 0.456, 0.406],\n",
        "            std=[0.229, 0.224, 0.225]\n",
        "        ),\n",
        "    ]\n",
        ")\n",
        "\n",
        "# CPU/GPU 중 어떤 장치에 모델을 올릴지 정하기, 모델 선언\n",
        "device = \"cuda\" if torch.cuda.is_available() else \"cpu\"\n",
        "model = models.alexnet(weights=\"AlexNet_Weights.IMAGENET1K_V1\").eval().to(device)\n",
        "\n",
        "# 이미지 파일 불러와서 transform 함수 적용하고, 텐서들을 stack하기\n",
        "tensors = []\n",
        "files = [\"./datasets/airplane.jpeg\", \"./datasets/bus.jpeg\"]\n",
        "for file in files:\n",
        "    image = Image.open(file)\n",
        "    tensors.append(transform(image))\n",
        "\n",
        "tensors = torch.stack(tensors)\n",
        "print(f\"입력 텐서의 크기 : {tensors.shape}\")"
      ],
      "metadata": {
        "colab": {
          "base_uri": "https://localhost:8080/"
        },
        "id": "5pQwxyYQxCtW",
        "outputId": "2f987582-1666-4808-b762-1d1a0a481d6d"
      },
      "execution_count": 9,
      "outputs": [
        {
          "output_type": "stream",
          "name": "stdout",
          "text": [
            "입력 텐서의 크기 : torch.Size([2, 3, 224, 224])\n"
          ]
        }
      ]
    },
    {
      "cell_type": "code",
      "source": [
        "import numpy as np\n",
        "from torch.nn import functional as F\n",
        "\n",
        "# 위에서 선언한 AlexNet 모델과 준비한 이미지 데이터 사용해서 클래스 예측하기\n",
        "with torch.no_grad(): # 모델 테스트 시 gradient 계산이 필요없기 때문에 사용\n",
        "    outputs = model(tensors.to(device))\n",
        "    probs = F.softmax(outputs, dim=-1)\n",
        "    top_probs, top_idxs = probs.topk(5)\n",
        "\n",
        "top_probs = top_probs.detach().cpu().numpy()\n",
        "top_idxs = top_idxs.detach().cpu().numpy()\n",
        "top_classes = np.array(classes)[top_idxs]\n",
        "\n",
        "for idx, (cls, prob) in enumerate(zip(top_classes, top_probs)):\n",
        "    print(f\"{files[idx]} 추론 결과\")\n",
        "    for c, p in zip(cls, prob):\n",
        "        print(f\" - {c:<30} : {p * 100:>5.2f}%\")"
      ],
      "metadata": {
        "colab": {
          "base_uri": "https://localhost:8080/"
        },
        "id": "Uqv4gIPwxEYP",
        "outputId": "ad07fc1e-455a-4f41-a05c-cf4c55c8087a"
      },
      "execution_count": 10,
      "outputs": [
        {
          "output_type": "stream",
          "name": "stdout",
          "text": [
            "./datasets/airplane.jpeg 추론 결과\n",
            " - airliner                       : 66.83%\n",
            " - warplane                       : 20.12%\n",
            " - wing                           :  9.29%\n",
            " - space shuttle                  :  2.89%\n",
            " - missile                        :  0.38%\n",
            "./datasets/bus.jpeg 추론 결과\n",
            " - streetcar                      : 60.25%\n",
            " - trolleybus                     : 37.99%\n",
            " - minibus                        :  1.54%\n",
            " - passenger car                  :  0.17%\n",
            " - recreational vehicle           :  0.03%\n"
          ]
        }
      ]
    },
    {
      "cell_type": "code",
      "source": [],
      "metadata": {
        "id": "yVe9CH36xFCS"
      },
      "execution_count": null,
      "outputs": []
    }
  ]
}