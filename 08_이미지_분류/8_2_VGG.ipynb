{
  "nbformat": 4,
  "nbformat_minor": 0,
  "metadata": {
    "colab": {
      "provenance": [],
      "gpuType": "T4"
    },
    "kernelspec": {
      "name": "python3",
      "display_name": "Python 3"
    },
    "language_info": {
      "name": "python"
    },
    "accelerator": "GPU"
  },
  "cells": [
    {
      "cell_type": "code",
      "source": [
        "from google.colab import drive\n",
        "\n",
        "# 데이터셋 pet.zip 구글드라이브에 업로드한 뒤\n",
        "# 구글 드라이브 마운트: 모든 액세스 권한 허용해야 함\n",
        "drive.mount('/content/drive')"
      ],
      "metadata": {
        "colab": {
          "base_uri": "https://localhost:8080/"
        },
        "id": "CYfbXt9G0ew5",
        "outputId": "2f8bc1eb-5f7b-4a5d-e141-91d5ec3e0b7a"
      },
      "execution_count": 1,
      "outputs": [
        {
          "output_type": "stream",
          "name": "stdout",
          "text": [
            "Mounted at /content/drive\n"
          ]
        }
      ]
    },
    {
      "cell_type": "code",
      "source": [
        "%cd dataset/ # 압축을 풀고 싶은 위치, 미리 폴더 생성해둬야 함\n",
        "!unzip -qq \"/content/drive/MyDrive/pet.zip\" # 압축파일이 있는 경로"
      ],
      "metadata": {
        "id": "LLUIsGyf1S45"
      },
      "execution_count": 13,
      "outputs": []
    },
    {
      "cell_type": "code",
      "execution_count": 16,
      "metadata": {
        "id": "V_2LsEl3zOR_",
        "colab": {
          "base_uri": "https://localhost:8080/"
        },
        "outputId": "2f0342ec-f9c1-4c3d-d00a-65b4797bf094"
      },
      "outputs": [
        {
          "output_type": "stream",
          "name": "stderr",
          "text": [
            "Downloading: \"https://download.pytorch.org/models/vgg16-397923af.pth\" to /root/.cache/torch/hub/checkpoints/vgg16-397923af.pth\n",
            "100%|██████████| 528M/528M [00:04<00:00, 132MB/s] \n"
          ]
        }
      ],
      "source": [
        "import torch\n",
        "from torch import nn\n",
        "from torch import optim\n",
        "from torch.nn import functional as F\n",
        "from torch.utils.data import DataLoader\n",
        "from torchvision import models\n",
        "from torchvision import transforms\n",
        "from torchvision.datasets import ImageFolder\n",
        "\n",
        "# 하이퍼파라미터들 선언\n",
        "hyperparams = {\n",
        "    \"batch_size\": 4,\n",
        "    \"learning_rate\": 0.0001,\n",
        "    \"epochs\": 5,\n",
        "    \"transform\": transforms.Compose(\n",
        "        [\n",
        "            transforms.Resize(256),\n",
        "            transforms.CenterCrop(224),\n",
        "            transforms.ToTensor(),\n",
        "            transforms.Normalize(\n",
        "                mean=[0.48235, 0.45882, 0.40784],\n",
        "                std=[1.0 / 255.0, 1.0 / 255.0, 1.0 / 255.0],\n",
        "            ),\n",
        "        ]\n",
        "    ),\n",
        "}\n",
        "\n",
        "# tran, test 데이터셋, 데이터 로더 선언\n",
        "train_dataset = ImageFolder(\"/content/dataset/train\", transform=hyperparams[\"transform\"])\n",
        "test_dataset = ImageFolder(\"/content/dataset/test\", transform=hyperparams[\"transform\"])\n",
        "\n",
        "train_dataloader = DataLoader(train_dataset, batch_size=hyperparams[\"batch_size\"], shuffle=True, drop_last=True)\n",
        "test_dataloader = DataLoader(test_dataset, batch_size=hyperparams[\"batch_size\"], shuffle=True, drop_last=True)\n",
        "\n",
        "# 모델 선언, ImageNet 데이터셋에 pretrain된 VGG-16 모델 사용\n",
        "model = models.vgg16(weights=\"VGG16_Weights.IMAGENET1K_V1\")\n",
        "model.classifier[6] = nn.Linear(4096, len(train_dataset.classes))\n",
        "\n",
        "# device, 손실함수, optimizer 선언\n",
        "device = \"cuda\" if torch.cuda.is_available() else \"cpu\"\n",
        "model = model.to(device)\n",
        "criterion = nn.CrossEntropyLoss().to(device)\n",
        "optimizer = optim.SGD(model.parameters(), lr=hyperparams[\"learning_rate\"])"
      ]
    },
    {
      "cell_type": "code",
      "source": [
        "# 학습 코드\n",
        "for epoch in range(hyperparams[\"epochs\"]):\n",
        "    cost = 0.0\n",
        "\n",
        "    for images, classes in train_dataloader:\n",
        "        images = images.to(device)\n",
        "        classes = classes.to(device)\n",
        "\n",
        "        output = model(images)\n",
        "        loss = criterion(output, classes)\n",
        "\n",
        "        optimizer.zero_grad()\n",
        "        loss.backward()\n",
        "        optimizer.step()\n",
        "\n",
        "        cost += loss\n",
        "\n",
        "    cost = cost / len(train_dataloader)\n",
        "    print(f\"Epoch : {epoch+1:4d}, Cost : {cost:.3f}\")"
      ],
      "metadata": {
        "colab": {
          "base_uri": "https://localhost:8080/"
        },
        "id": "rO3sUvaK2QQv",
        "outputId": "1d6e548c-7fb9-4116-9519-8c4220ec23dd"
      },
      "execution_count": 17,
      "outputs": [
        {
          "output_type": "stream",
          "name": "stdout",
          "text": [
            "Epoch :    1, Cost : 0.284\n",
            "Epoch :    2, Cost : 0.092\n",
            "Epoch :    3, Cost : 0.061\n",
            "Epoch :    4, Cost : 0.041\n",
            "Epoch :    5, Cost : 0.027\n"
          ]
        }
      ]
    },
    {
      "cell_type": "code",
      "source": [
        "# 테스트 코드\n",
        "with torch.no_grad():\n",
        "    model.eval()\n",
        "\n",
        "    accuracy = 0.0\n",
        "    for images, classes in test_dataloader:\n",
        "        images = images.to(device)\n",
        "        classes = classes.to(device)\n",
        "\n",
        "        outputs = model(images)\n",
        "        probs = F.softmax(outputs, dim=-1)\n",
        "        outputs_classes = torch.argmax(probs, dim=-1)\n",
        "\n",
        "        accuracy += int(torch.eq(classes, outputs_classes).sum())\n",
        "\n",
        "    print(f\"acc@1 : {accuracy / (len(test_dataloader) * hyperparams['batch_size']) * 100:.2f}%\")"
      ],
      "metadata": {
        "colab": {
          "base_uri": "https://localhost:8080/"
        },
        "id": "zaTFN0AX2Sjy",
        "outputId": "291b8c36-4ce6-472a-ad70-f70ba8dce181"
      },
      "execution_count": 18,
      "outputs": [
        {
          "output_type": "stream",
          "name": "stdout",
          "text": [
            "acc@1 : 97.38%\n"
          ]
        }
      ]
    },
    {
      "cell_type": "code",
      "source": [
        "# 모델 저장\n",
        "torch.save(model.state_dict(), \"/content/VGG16.pt\")\n",
        "print(\"Saved the model weights\")"
      ],
      "metadata": {
        "colab": {
          "base_uri": "https://localhost:8080/"
        },
        "id": "xgY-5__t2Jet",
        "outputId": "bbbc3cca-38fa-4f45-ac9a-b61fa90d66cd"
      },
      "execution_count": 19,
      "outputs": [
        {
          "output_type": "stream",
          "name": "stdout",
          "text": [
            "Saved the model weights\n"
          ]
        }
      ]
    },
    {
      "cell_type": "code",
      "source": [],
      "metadata": {
        "id": "9pV2fGuW2ia9"
      },
      "execution_count": null,
      "outputs": []
    }
  ]
}