{
  "cells": [
    {
      "cell_type": "markdown",
      "source": [
        "### Tensor\n",
        "- sclar: 크기만 가짐. 0차원 텐서\n",
        "- vector: 크기와 방향을 가짐. (N,)\n",
        "- matrix: 행렬. grayscale 이미지, 좌표 시스템 등. (N,M)\n",
        "- array: 3차원 이상의 배열. RGB 이미지, 행렬의 묶음, batch 등. (C,H,W)\n",
        "- 딥러닝 모델에 데이터를 batch 단위로 입력할 때에 이미지 묶음을 표현하기 위해 일반적으로 4차원 array를 사용함. 이때 N이 batch size. (N,C,H,W)"
      ],
      "metadata": {
        "id": "GStHkP5kDzOO"
      },
      "id": "GStHkP5kDzOO"
    },
    {
      "cell_type": "markdown",
      "source": [
        "### 예제 3.01 텐서 생성\n",
        "torch.Tensor() 사용 추천\n",
        "- torch.tensor(): 입력 데이터를 복사해서 텐서로 변환. 따라서 값이 무조건 있어야 함, 입력 데이터에 맞는 자료형으로 변환됨.\n",
        "- torch.Tensor(): 기본형 텐서 생성. 값이 없으면 빈 텐서를 만들고, Float 자료형으로 변환됨.\n"
      ],
      "metadata": {
        "id": "OJEjgWF2FMHB"
      },
      "id": "OJEjgWF2FMHB"
    },
    {
      "cell_type": "code",
      "execution_count": 1,
      "id": "cc368595-532b-4cc2-8895-2588b53c329e",
      "metadata": {
        "colab": {
          "base_uri": "https://localhost:8080/"
        },
        "id": "cc368595-532b-4cc2-8895-2588b53c329e",
        "outputId": "8d361c74-d109-4268-fc58-1b2f537a6dbb"
      },
      "outputs": [
        {
          "output_type": "stream",
          "name": "stdout",
          "text": [
            "tensor([1, 2, 3])\n",
            "tensor([[1., 2., 3.],\n",
            "        [4., 5., 6.]])\n",
            "tensor([1, 2, 3])\n"
          ]
        }
      ],
      "source": [
        "# 예제 3.01 텐서 생성\n",
        "import torch\n",
        "\n",
        "print(torch.tensor([1, 2, 3])) # 소문자 사용. 자료형이 Int.\n",
        "print(torch.Tensor([[1, 2, 3], [4, 5, 6]])) # 대문자 사용. 자료형이 Float으로 변환됨.\n",
        "print(torch.LongTensor([1, 2, 3])) # 자료형을 선언하며 텐서를 생성 가능"
      ]
    },
    {
      "cell_type": "markdown",
      "source": [
        "### 예제 3.02 텐서 속성\n",
        "- .shape: 배열 형태\n",
        "- .dtype: 자료형\n",
        "- .device: 장치. 텐서의 GPU 가속 여부 확인\n",
        "\n",
        "### 예제 3.03 텐서 차원 변환\n",
        "- torch.reshape"
      ],
      "metadata": {
        "id": "0yLUWAM3GF79"
      },
      "id": "0yLUWAM3GF79"
    },
    {
      "cell_type": "code",
      "source": [
        "# 예제 3.02 텐서 속성\n",
        "tensor = torch.rand(1, 2)\n",
        "print(tensor.shape) # 배열 형태\n",
        "print(tensor.dtype) # 자료형\n",
        "print(tensor.device) # 장치\n",
        "\n",
        "# 예제 3.03 텐서 차원 변환\n",
        "tensor = torch.rand(1, 2)\n",
        "print(tensor)\n",
        "print(tensor.shape) # 기존 shape (1,2)\n",
        "\n",
        "tensor = tensor.reshape(2, 1)\n",
        "print(tensor)\n",
        "print(tensor.shape)\n",
        "\n",
        "# 예제 3.04 텐서 자료형 설정\n",
        "tensor = torch.rand((3, 3), dtype=torch.float) # 자료형 설정 가능\n",
        "print(tensor)"
      ],
      "metadata": {
        "colab": {
          "base_uri": "https://localhost:8080/"
        },
        "id": "ym6DmR4ZXTVU",
        "outputId": "28d5e2cb-5e8e-46ab-b445-137046b083b0"
      },
      "id": "ym6DmR4ZXTVU",
      "execution_count": 2,
      "outputs": [
        {
          "output_type": "stream",
          "name": "stdout",
          "text": [
            "torch.Size([1, 2])\n",
            "torch.float32\n",
            "cpu\n",
            "tensor([[0.5224, 0.1717]])\n",
            "torch.Size([1, 2])\n",
            "tensor([[0.5224],\n",
            "        [0.1717]])\n",
            "torch.Size([2, 1])\n",
            "tensor([[0.7204, 0.1475, 0.1046],\n",
            "        [0.3497, 0.0752, 0.0536],\n",
            "        [0.6605, 0.8767, 0.1519]])\n"
          ]
        }
      ]
    },
    {
      "cell_type": "markdown",
      "source": [
        "### 예제 3.05 텐서 GPU 장치 설정\n",
        "아래처럼 장치 variable 설정해서 CUDA 사용 여부에 따라 장치 설정 가능\n",
        "- device = \"cuda\" if torch.cuda.is_available() else \"cpu\"\n",
        "- tensor = torch.rand((1, 1), device=device)\n",
        "\n",
        "### 예제 3.06 텐서 장치 변환\n",
        "- 텐서이름.cuda(): cpu 텐서 gpu로\n",
        "- 텐서이름.cpu(): gpu 텐서 cpu로"
      ],
      "metadata": {
        "id": "RiaLgHkeGQMB"
      },
      "id": "RiaLgHkeGQMB"
    },
    {
      "cell_type": "code",
      "source": [
        "# 예제 3.05 텐서 GPU 장치 설정\n",
        "device = \"cuda\" if torch.cuda.is_available() else \"cpu\"\n",
        "cpu = torch.FloatTensor([1, 2, 3])\n",
        "gpu = torch.cuda.FloatTensor([1, 2, 3])\n",
        "tensor = torch.rand((1, 1), device=device)\n",
        "print(device)\n",
        "print(cpu)\n",
        "print(gpu)\n",
        "print(tensor)\n",
        "\n",
        "# 예제 3.06 텐서 장치 변환\n",
        "cpu = torch.FloatTensor([1, 2, 3])\n",
        "gpu = cpu.cuda()\n",
        "gpu2cpu = gpu.cpu()\n",
        "cpu2gpu = cpu.to(\"cuda\")\n",
        "print(cpu)\n",
        "print(gpu)\n",
        "print(gpu2cpu)\n",
        "print(cpu2gpu)"
      ],
      "metadata": {
        "colab": {
          "base_uri": "https://localhost:8080/"
        },
        "id": "XxWWMG5eXxjH",
        "outputId": "743b328a-a459-42a4-f5ad-e91ba805dd0a"
      },
      "id": "XxWWMG5eXxjH",
      "execution_count": 3,
      "outputs": [
        {
          "output_type": "stream",
          "name": "stderr",
          "text": [
            "<ipython-input-3-0d814987b216>:4: UserWarning: The torch.cuda.*DtypeTensor constructors are no longer recommended. It's best to use methods such as torch.tensor(data, dtype=*, device='cuda') to create tensors. (Triggered internally at ../torch/csrc/tensor/python_tensor.cpp:83.)\n",
            "  gpu = torch.cuda.FloatTensor([1, 2, 3])\n"
          ]
        },
        {
          "output_type": "stream",
          "name": "stdout",
          "text": [
            "cuda\n",
            "tensor([1., 2., 3.])\n",
            "tensor([1., 2., 3.], device='cuda:0')\n",
            "tensor([[0.2767]], device='cuda:0')\n",
            "tensor([1., 2., 3.])\n",
            "tensor([1., 2., 3.], device='cuda:0')\n",
            "tensor([1., 2., 3.])\n",
            "tensor([1., 2., 3.], device='cuda:0')\n"
          ]
        }
      ]
    },
    {
      "cell_type": "markdown",
      "source": [
        "### 예제 3.07 넘파이 배열의 텐서 변환\n",
        "- torch.tensor(), torch.Tenser(), torch.from_numpy(배열이름)\n",
        "\n",
        "### 예제 3.08 텐서의 넘파이 배열 변환\n",
        "- a.detach().cpu().numpy()\n",
        "- (1) .detach(): 텐서는 backpropagation을 위해 모든 연산을 기록하고 있기에 graph에서 분리된 텐서를 받기 위해 사용\n",
        "- (2) .cpu(): cpu 텐서로 변환\n",
        "- (3) .numpy(): numpy 배열로 변환"
      ],
      "metadata": {
        "id": "mVvQMR4XIjPv"
      },
      "id": "mVvQMR4XIjPv"
    },
    {
      "cell_type": "code",
      "source": [
        "# 예제 3.07 넘파이 배열의 텐서 변환\n",
        "import torch\n",
        "import numpy as np\n",
        "\n",
        "ndarray = np.array([1, 2, 3], dtype=np.uint8)\n",
        "print(torch.tensor(ndarray))\n",
        "print(torch.Tensor(ndarray))\n",
        "print(torch.from_numpy(ndarray))\n",
        "\n",
        "tensor = torch.cuda.FloatTensor([1, 2, 3])\n",
        "ndarray = tensor.detach().cpu().numpy()\n",
        "print(ndarray)\n",
        "print(type(ndarray))\n",
        "import torch\n",
        "\n",
        "# 예제 3.08 텐서의 넘파이 배열 변환\n",
        "tensor = torch.FloatTensor([1, 2, 3]).to(\"cuda\")\n",
        "ndarray = tensor.detach().cpu().numpy()\n",
        "print(ndarray)\n",
        "print(type(ndarray))"
      ],
      "metadata": {
        "colab": {
          "base_uri": "https://localhost:8080/"
        },
        "id": "T_LSOM4UX1YI",
        "outputId": "a877655c-c1dd-426a-f299-c7571e619ccb"
      },
      "id": "T_LSOM4UX1YI",
      "execution_count": 5,
      "outputs": [
        {
          "output_type": "stream",
          "name": "stdout",
          "text": [
            "tensor([1, 2, 3], dtype=torch.uint8)\n",
            "tensor([1., 2., 3.])\n",
            "tensor([1, 2, 3], dtype=torch.uint8)\n",
            "[1. 2. 3.]\n",
            "<class 'numpy.ndarray'>\n",
            "[1. 2. 3.]\n",
            "<class 'numpy.ndarray'>\n"
          ]
        }
      ]
    }
  ],
  "metadata": {
    "kernelspec": {
      "display_name": "Python 3",
      "name": "python3"
    },
    "language_info": {
      "codemirror_mode": {
        "name": "ipython",
        "version": 3
      },
      "file_extension": ".py",
      "mimetype": "text/x-python",
      "name": "python",
      "nbconvert_exporter": "python",
      "pygments_lexer": "ipython3",
      "version": "3.9.13"
    },
    "colab": {
      "provenance": [],
      "gpuType": "T4"
    },
    "accelerator": "GPU"
  },
  "nbformat": 4,
  "nbformat_minor": 5
}