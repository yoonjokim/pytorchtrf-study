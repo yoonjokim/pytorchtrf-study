{
  "cells": [
    {
      "cell_type": "markdown",
      "source": [
        "### 가설\n",
        "- 귀무가설: 버릴 가설.\n",
        "- 대립가설: 귀무가설과 반대되는 가설, 연구자가 검증하려는 가설.\n",
        "\n",
        "### 머신러닝에서의 가설\n",
        "- 독립 변수 x와 종속 변수 y간의 관계를 잘 근사시키기 위한 가설\n",
        "- H(x) = Wx+b\n",
        "- W: weight, b: bias\n",
        "\n",
        "### 통계적 가설 검정 사례\n",
        "- paired t-test: 동일 집단에 대한 약물 치료 전후 효과 등\n",
        "- unpaired t-test: 서로 다른 집단 간의 차이 조사 등\n",
        "- p-value가 0.05보다 작으면 유의하다고 판단"
      ],
      "metadata": {
        "id": "10dZ-Jp9WvVo"
      },
      "id": "10dZ-Jp9WvVo"
    }
  ],
  "metadata": {
    "kernelspec": {
      "display_name": "Python 3 (ipykernel)",
      "language": "python",
      "name": "python3"
    },
    "language_info": {
      "codemirror_mode": {
        "name": "ipython",
        "version": 3
      },
      "file_extension": ".py",
      "mimetype": "text/x-python",
      "name": "python",
      "nbconvert_exporter": "python",
      "pygments_lexer": "ipython3",
      "version": "3.9.13"
    },
    "colab": {
      "provenance": []
    }
  },
  "nbformat": 4,
  "nbformat_minor": 5
}