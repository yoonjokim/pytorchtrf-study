{
  "cells": [
    {
      "cell_type": "markdown",
      "source": [
        "### 비선형\n",
        "- 단층 퍼셉트론은 AND, OR, NAND 게이트와 같은 구조를 갖는 모델은 구현할 수 있으나, XOR 게이트와 같이 모델이 비선형성을 필요로 할 경우 사용할 수 없음\n",
        "- 비선형성을 표현하기 위해 단층 퍼셉트론을 여러 개 쌓아 hidden layer를 한 개 이상 갖는 다층 퍼셉트론 구조를 사용함\n",
        "- 일반적으로 사용하는 데이터는 비선형적인 구조를 가지고 있기 때문에, activation function을 사용해서 layer의 출력값을 비선형적으로 변환함\n",
        "- activation function에는 step, threshold, sigmoid, tanh, ReLU, softmax 등의 함수가 있음\n"
      ],
      "metadata": {
        "id": "rQIgTcOJzkTT"
      },
      "id": "rQIgTcOJzkTT"
    },
    {
      "cell_type": "markdown",
      "source": [
        "### 다층 퍼셉트론 구조"
      ],
      "metadata": {
        "id": "1UQMRylYNgKB"
      },
      "id": "1UQMRylYNgKB"
    },
    {
      "cell_type": "code",
      "source": [
        "# 다층 퍼셉트론 구조\n",
        "import torch\n",
        "import pandas as pd\n",
        "from torch import nn\n",
        "from torch import optim\n",
        "from torch.utils.data import Dataset, DataLoader\n",
        "\n",
        "# 데이터셋 클래스 선언\n",
        "class CustomDataset(Dataset):\n",
        "    def __init__(self, file_path):\n",
        "        df = pd.read_csv(file_path)\n",
        "        self.x1 = df.iloc[:, 0].values\n",
        "        self.x2 = df.iloc[:, 1].values\n",
        "        self.y = df.iloc[:, 2].values\n",
        "        self.length = len(df)\n",
        "\n",
        "    def __getitem__(self, index):\n",
        "        x = torch.FloatTensor([self.x1[index], self.x2[index]])\n",
        "        y = torch.FloatTensor([self.y[index]])\n",
        "        return x, y\n",
        "\n",
        "    def __len__(self):\n",
        "        return self.length\n",
        "\n",
        "# 모델 선언: hidden layer를 가짐\n",
        "class CustomModel(nn.Module):\n",
        "    def __init__(self):\n",
        "        super().__init__()\n",
        "\n",
        "        self.layer1 = nn.Sequential(\n",
        "            nn.Linear(2, 2),\n",
        "            nn.Sigmoid()\n",
        "        )\n",
        "        self.layer2 = nn.Sequential(\n",
        "            nn.Linear(2, 1),\n",
        "            nn.Sigmoid()\n",
        "        )\n",
        "\n",
        "    def forward(self, x):\n",
        "        x = self.layer1(x)\n",
        "        x = self.layer2(x)\n",
        "        return x\n",
        "\n",
        "# train dataset 선언\n",
        "train_dataset = CustomDataset(\"./perceptron.csv\")\n",
        "train_dataloader = DataLoader(train_dataset, batch_size=64, shuffle=True, drop_last=True)\n",
        "device = \"cuda\" if torch.cuda.is_available() else \"cpu\"\n",
        "\n",
        "# 모델, 손실 함수, optimizer 선언\n",
        "model = CustomModel().to(device)\n",
        "criterion = nn.BCELoss().to(device)\n",
        "optimizer = optim.SGD(model.parameters(), lr=0.01)\n",
        "\n",
        "# 학습 시작: epoch 설정\n",
        "for epoch in range(10000):\n",
        "    cost = 0.0\n",
        "\n",
        "    # train dataset 배치 별로 학습\n",
        "    for x, y in train_dataloader:\n",
        "        x = x.to(device)\n",
        "        y = y.to(device)\n",
        "\n",
        "        # 순전파\n",
        "        output = model(x)\n",
        "        loss = criterion(output, y)\n",
        "\n",
        "        # 역전파 및 variable 갱신\n",
        "        optimizer.zero_grad()\n",
        "        loss.backward()\n",
        "        optimizer.step()\n",
        "\n",
        "        cost += loss\n",
        "\n",
        "    cost = cost / len(train_dataloader)\n",
        "\n",
        "    if (epoch + 1) % 1000 == 0:\n",
        "        print(f\"Epoch : {epoch+1:4d}, Cost : {cost:.3f}\")\n",
        "\n",
        "# evaluation 시작\n",
        "with torch.no_grad(): # 기울기 계산 비활성화\n",
        "    model.eval() # 모델을 평가 모드로 변환(training과 eval 시에 다르게 동작하는 layer들을 eval 모드로 변환하기 위함)\n",
        "\n",
        "    inputs = torch.FloatTensor([\n",
        "        [0, 0],\n",
        "        [0, 1],\n",
        "        [1, 0],\n",
        "        [1, 1]\n",
        "    ]).to(device)\n",
        "\n",
        "    outputs = model(inputs)\n",
        "\n",
        "    print(\"---------\")\n",
        "    print(outputs)\n",
        "    print(outputs <= 0.5)"
      ],
      "metadata": {
        "colab": {
          "base_uri": "https://localhost:8080/"
        },
        "id": "aKzu5pV4F1IZ",
        "outputId": "ea469bb2-eaab-49c2-9ab1-a6b9894ac89f"
      },
      "id": "aKzu5pV4F1IZ",
      "execution_count": 1,
      "outputs": [
        {
          "output_type": "stream",
          "name": "stderr",
          "text": [
            "<ipython-input-1-9efcddd17ea2>:18: DeprecationWarning: In future, it will be an error for 'np.bool_' scalars to be interpreted as an index\n",
            "  x = torch.FloatTensor([self.x1[index], self.x2[index]])\n",
            "<ipython-input-1-9efcddd17ea2>:19: DeprecationWarning: In future, it will be an error for 'np.bool_' scalars to be interpreted as an index\n",
            "  y = torch.FloatTensor([self.y[index]])\n"
          ]
        },
        {
          "output_type": "stream",
          "name": "stdout",
          "text": [
            "Epoch : 1000, Cost : 0.692\n",
            "Epoch : 2000, Cost : 0.675\n",
            "Epoch : 3000, Cost : 0.237\n",
            "Epoch : 4000, Cost : 0.063\n",
            "Epoch : 5000, Cost : 0.033\n",
            "Epoch : 6000, Cost : 0.022\n",
            "Epoch : 7000, Cost : 0.017\n",
            "Epoch : 8000, Cost : 0.013\n",
            "Epoch : 9000, Cost : 0.011\n",
            "Epoch : 10000, Cost : 0.009\n",
            "---------\n",
            "tensor([[0.0107],\n",
            "        [0.9916],\n",
            "        [0.9916],\n",
            "        [0.0097]], device='cuda:0')\n",
            "tensor([[ True],\n",
            "        [False],\n",
            "        [False],\n",
            "        [ True]], device='cuda:0')\n"
          ]
        }
      ]
    },
    {
      "cell_type": "code",
      "source": [],
      "metadata": {
        "id": "mjen2Go-JExW"
      },
      "id": "mjen2Go-JExW",
      "execution_count": 1,
      "outputs": []
    }
  ],
  "metadata": {
    "kernelspec": {
      "display_name": "Python 3",
      "name": "python3"
    },
    "language_info": {
      "codemirror_mode": {
        "name": "ipython",
        "version": 3
      },
      "file_extension": ".py",
      "mimetype": "text/x-python",
      "name": "python",
      "nbconvert_exporter": "python",
      "pygments_lexer": "ipython3",
      "version": "3.9.13"
    },
    "colab": {
      "provenance": [],
      "gpuType": "T4"
    },
    "accelerator": "GPU"
  },
  "nbformat": 4,
  "nbformat_minor": 5
}