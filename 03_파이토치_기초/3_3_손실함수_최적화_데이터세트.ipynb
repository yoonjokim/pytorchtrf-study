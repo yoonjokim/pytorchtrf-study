{
  "cells": [
    {
      "cell_type": "markdown",
      "source": [
        "### 손실 함수\n",
        "- ground truth와 prediction 간의 오차를 계산하는 함수\n",
        "- 신경망은 오차를 최소화하는 방법으로 학습을 진행함"
      ],
      "metadata": {
        "id": "rQIgTcOJzkTT"
      },
      "id": "rQIgTcOJzkTT"
    },
    {
      "cell_type": "markdown",
      "source": [
        "### Optimization\n",
        "- Objective function의 값을 최적화하는 weight, bias를 찾는 알고리즘\n",
        "- Gradient descent: 손실 함수의 기울기 값이 작은 곳으로 이동해서 최적의 variable을 찾음\n",
        "- Momentum, Adaptive gradient, Adam 등 다양한 알고리즘이 존재함"
      ],
      "metadata": {
        "id": "lJvND1OE0Unn"
      },
      "id": "lJvND1OE0Unn"
    },
    {
      "cell_type": "code",
      "source": [
        "# 예제 3.11~3.17 단순 선형 회귀(넘파이)\n",
        "\n",
        "import numpy as np\n",
        "\n",
        "# 데이터 선언\n",
        "x = np.array(\n",
        "    [[1], [2], [3], [4], [5], [6], [7], [8], [9], [10],\n",
        "    [11], [12], [13], [14], [15], [16], [17], [18], [19], [20],\n",
        "    [21], [22], [23], [24], [25], [26], [27], [28], [29], [30]]\n",
        ")\n",
        "y = np.array(\n",
        "    [[0.94], [1.98], [2.88], [3.92], [3.96], [4.55], [5.64], [6.3], [7.44], [9.1],\n",
        "    [8.46], [9.5], [10.67], [11.16], [14], [11.83], [14.4], [14.25], [16.2], [16.32],\n",
        "    [17.46], [19.8], [18], [21.34], [22], [22.5], [24.57], [26.04], [21.6], [28.8]]\n",
        ")\n",
        "\n",
        "# variable, lr 선언\n",
        "weight = 0.0\n",
        "bias = 0.0\n",
        "learning_rate = 0.005\n",
        "\n",
        "# epoch  설정\n",
        "for epoch in range(10000):\n",
        "    # 가설 설정\n",
        "    y_hat = weight * x + bias\n",
        "\n",
        "    # 손실 함수 선언\n",
        "    cost = ((y - y_hat) ** 2).mean()\n",
        "\n",
        "    # weight, bias 갱신\n",
        "    weight = weight - learning_rate * ((y_hat - y) * x).mean() # w1 = w0-lr*(손실함수를 w로 편미분한 값)\n",
        "    bias = bias - learning_rate * (y_hat - y).mean() # b1 = b0-lr*(손실함수를 b로 편미분한 값)\n",
        "\n",
        "    if (epoch + 1) % 1000 == 0:\n",
        "        print(f\"Epoch : {epoch+1:4d}, Weight : {weight:.3f}, Bias : {bias:.3f}, Cost : {cost:.3f}\")"
      ],
      "metadata": {
        "colab": {
          "base_uri": "https://localhost:8080/"
        },
        "id": "i_8D35ndYLkr",
        "outputId": "3993e70d-995e-449f-98b9-767415d23c57"
      },
      "id": "i_8D35ndYLkr",
      "execution_count": 1,
      "outputs": [
        {
          "output_type": "stream",
          "name": "stdout",
          "text": [
            "Epoch : 1000, Weight : 0.872, Bias : -0.290, Cost : 1.377\n",
            "Epoch : 2000, Weight : 0.877, Bias : -0.391, Cost : 1.373\n",
            "Epoch : 3000, Weight : 0.878, Bias : -0.422, Cost : 1.372\n",
            "Epoch : 4000, Weight : 0.879, Bias : -0.432, Cost : 1.372\n",
            "Epoch : 5000, Weight : 0.879, Bias : -0.435, Cost : 1.372\n",
            "Epoch : 6000, Weight : 0.879, Bias : -0.436, Cost : 1.372\n",
            "Epoch : 7000, Weight : 0.879, Bias : -0.436, Cost : 1.372\n",
            "Epoch : 8000, Weight : 0.879, Bias : -0.436, Cost : 1.372\n",
            "Epoch : 9000, Weight : 0.879, Bias : -0.436, Cost : 1.372\n",
            "Epoch : 10000, Weight : 0.879, Bias : -0.436, Cost : 1.372\n"
          ]
        }
      ]
    },
    {
      "cell_type": "code",
      "source": [
        "# 예제 3.18~3.24 단순 선형 회귀(파이토치)\n",
        "\n",
        "\n",
        "import torch\n",
        "from torch import optim\n",
        "\n",
        "# 데이터 선언\n",
        "x = torch.FloatTensor([\n",
        "    [1], [2], [3], [4], [5], [6], [7], [8], [9], [10],\n",
        "    [11], [12], [13], [14], [15], [16], [17], [18], [19], [20],\n",
        "    [21], [22], [23], [24], [25], [26], [27], [28], [29], [30]\n",
        "])\n",
        "y = torch.FloatTensor([\n",
        "    [0.94], [1.98], [2.88], [3.92], [3.96], [4.55], [5.64], [6.3], [7.44], [9.1],\n",
        "    [8.46], [9.5], [10.67], [11.16], [14], [11.83], [14.4], [14.25], [16.2], [16.32],\n",
        "    [17.46], [19.8], [18], [21.34], [22], [22.5], [24.57], [26.04], [21.6], [28.8]\n",
        "])\n",
        "\n",
        "# variable, lr, optimizer 초기화\n",
        "weight = torch.zeros(1, requires_grad=True)\n",
        "bias = torch.zeros(1, requires_grad=True)\n",
        "learning_rate = 0.001\n",
        "optimizer = optim.SGD([weight, bias], lr=learning_rate)\n",
        "\n",
        "# epoch  설정\n",
        "for epoch in range(10000):\n",
        "    hypothesis = weight * x + bias # 가설 설정\n",
        "    cost = torch.mean((hypothesis - y) ** 2) # 손실 함수 선언\n",
        "\n",
        "    optimizer.zero_grad() # gradient 0으로 초기화\n",
        "    cost.backward() # 역전파 수행, optimizer 변수에 포함시킨 variable들의 gradient가 계산됨\n",
        "    optimizer.step() # lr을 활용해서 variable들 업데이트\n",
        "\n",
        "    if (epoch + 1) % 1000 == 0:\n",
        "        print(f\"Epoch : {epoch+1:4d}, Weight : {weight.item():.3f}, Bias : {bias.item():.3f}, Cost : {cost:.3f}\")"
      ],
      "metadata": {
        "colab": {
          "base_uri": "https://localhost:8080/"
        },
        "id": "B85a7Mh2YRDG",
        "outputId": "f52f1486-a116-49a2-fdcd-2f30b97897f4"
      },
      "id": "B85a7Mh2YRDG",
      "execution_count": 2,
      "outputs": [
        {
          "output_type": "stream",
          "name": "stdout",
          "text": [
            "Epoch : 1000, Weight : 0.864, Bias : -0.138, Cost : 1.393\n",
            "Epoch : 2000, Weight : 0.870, Bias : -0.251, Cost : 1.380\n",
            "Epoch : 3000, Weight : 0.873, Bias : -0.321, Cost : 1.375\n",
            "Epoch : 4000, Weight : 0.875, Bias : -0.364, Cost : 1.373\n",
            "Epoch : 5000, Weight : 0.877, Bias : -0.391, Cost : 1.373\n",
            "Epoch : 6000, Weight : 0.878, Bias : -0.408, Cost : 1.372\n",
            "Epoch : 7000, Weight : 0.878, Bias : -0.419, Cost : 1.372\n",
            "Epoch : 8000, Weight : 0.878, Bias : -0.425, Cost : 1.372\n",
            "Epoch : 9000, Weight : 0.879, Bias : -0.429, Cost : 1.372\n",
            "Epoch : 10000, Weight : 0.879, Bias : -0.432, Cost : 1.372\n"
          ]
        }
      ]
    },
    {
      "cell_type": "markdown",
      "source": [
        "### torch.nn.Linear\n",
        "- layer = torch.nn.Linear(in_features, out_features)\n",
        "- 입력 데이터에 y=Wx+b의 linear transformation을 적용함\n",
        "- 입력은 in_features의 차원 크기, 출력은 out_features의 차원 크기를 가짐"
      ],
      "metadata": {
        "id": "ZZlFlqZ28U9G"
      },
      "id": "ZZlFlqZ28U9G"
    },
    {
      "cell_type": "code",
      "source": [
        "# 예제 3.26~3.28 신경망 패키지 적용\n",
        "\n",
        "import torch\n",
        "from torch import nn\n",
        "from torch import optim\n",
        "\n",
        "# 데이터 선언\n",
        "x = torch.FloatTensor([\n",
        "    [1], [2], [3], [4], [5], [6], [7], [8], [9], [10],\n",
        "    [11], [12], [13], [14], [15], [16], [17], [18], [19], [20],\n",
        "    [21], [22], [23], [24], [25], [26], [27], [28], [29], [30]\n",
        "])\n",
        "y = torch.FloatTensor([\n",
        "    [0.94], [1.98], [2.88], [3.92], [3.96], [4.55], [5.64], [6.3], [7.44], [9.1],\n",
        "    [8.46], [9.5], [10.67], [11.16], [14], [11.83], [14.4], [14.25], [16.2], [16.32],\n",
        "    [17.46], [19.8], [18], [21.34], [22], [22.5], [24.57], [26.04], [21.6], [28.8]\n",
        "])\n",
        "\n",
        "# 모델 선언\n",
        "model = nn.Linear(1, 1)\n",
        "\n",
        "# 손실 함수, optimizer 선언\n",
        "criterion = nn.MSELoss()\n",
        "optimizer = optim.SGD(model.parameters(), lr=0.001)\n",
        "\n",
        "# epoch  설정\n",
        "for epoch in range(10000):\n",
        "\n",
        "    # 순방향\n",
        "    output = model(x)\n",
        "    cost = criterion(output, y)\n",
        "\n",
        "    # 역방향\n",
        "    optimizer.zero_grad()\n",
        "    cost.backward()\n",
        "    optimizer.step()\n",
        "\n",
        "    if (epoch + 1) % 1000 == 0:\n",
        "        print(f\"Epoch : {epoch+1:4d}, Model : {list(model.parameters())}, Cost : {cost:.3f}\")"
      ],
      "metadata": {
        "colab": {
          "base_uri": "https://localhost:8080/"
        },
        "id": "hXSDPklvYZsE",
        "outputId": "b502b3e8-dbda-42d8-d170-d6346c1c01f8"
      },
      "id": "hXSDPklvYZsE",
      "execution_count": null,
      "outputs": [
        {
          "output_type": "stream",
          "name": "stdout",
          "text": [
            "Epoch : 1000, Model : [Parameter containing:\n",
            "tensor([[0.8761]], requires_grad=True), Parameter containing:\n",
            "tensor([-0.3800], requires_grad=True)], Cost : 1.373\n",
            "Epoch : 2000, Model : [Parameter containing:\n",
            "tensor([[0.8772]], requires_grad=True), Parameter containing:\n",
            "tensor([-0.4011], requires_grad=True)], Cost : 1.372\n",
            "Epoch : 3000, Model : [Parameter containing:\n",
            "tensor([[0.8778]], requires_grad=True), Parameter containing:\n",
            "tensor([-0.4143], requires_grad=True)], Cost : 1.372\n",
            "Epoch : 4000, Model : [Parameter containing:\n",
            "tensor([[0.8782]], requires_grad=True), Parameter containing:\n",
            "tensor([-0.4225], requires_grad=True)], Cost : 1.372\n",
            "Epoch : 5000, Model : [Parameter containing:\n",
            "tensor([[0.8785]], requires_grad=True), Parameter containing:\n",
            "tensor([-0.4275], requires_grad=True)], Cost : 1.372\n",
            "Epoch : 6000, Model : [Parameter containing:\n",
            "tensor([[0.8786]], requires_grad=True), Parameter containing:\n",
            "tensor([-0.4307], requires_grad=True)], Cost : 1.372\n",
            "Epoch : 7000, Model : [Parameter containing:\n",
            "tensor([[0.8787]], requires_grad=True), Parameter containing:\n",
            "tensor([-0.4327], requires_grad=True)], Cost : 1.372\n",
            "Epoch : 8000, Model : [Parameter containing:\n",
            "tensor([[0.8788]], requires_grad=True), Parameter containing:\n",
            "tensor([-0.4339], requires_grad=True)], Cost : 1.372\n",
            "Epoch : 9000, Model : [Parameter containing:\n",
            "tensor([[0.8788]], requires_grad=True), Parameter containing:\n",
            "tensor([-0.4347], requires_grad=True)], Cost : 1.372\n",
            "Epoch : 10000, Model : [Parameter containing:\n",
            "tensor([[0.8789]], requires_grad=True), Parameter containing:\n",
            "tensor([-0.4351], requires_grad=True)], Cost : 1.372\n"
          ]
        }
      ]
    },
    {
      "cell_type": "code",
      "source": [
        "# 예제 3.29~3.33 Dataset를 사용한 다중 선형 회귀\n",
        "\n",
        "import torch\n",
        "from torch import nn\n",
        "from torch import optim\n",
        "from torch.utils.data import TensorDataset, DataLoader\n",
        "\n",
        "# 데이터 선언\n",
        "train_x = torch.FloatTensor([\n",
        "    [1, 2], [2, 3], [3, 4], [4, 5], [5, 6], [6, 7]\n",
        "])\n",
        "train_y = torch.FloatTensor([\n",
        "    [0.1, 1.5], [1, 2.8], [1.9, 4.1], [2.8, 5.4], [3.7, 6.7], [4.6, 8]\n",
        "])\n",
        "\n",
        "# Dataset 선언\n",
        "train_dataset = TensorDataset(train_x, train_y)\n",
        "train_dataloader = DataLoader(train_dataset, batch_size=2, shuffle=True, drop_last=True)\n",
        "\n",
        "# 모델, 손실 함수, optimizer 선언\n",
        "model = nn.Linear(2, 2, bias=True)\n",
        "criterion = nn.MSELoss()\n",
        "optimizer = optim.SGD(model.parameters(), lr=0.001)\n",
        "\n",
        "# epoch 설정\n",
        "for epoch in range(20): # 20000\n",
        "    cost = 0.0\n",
        "\n",
        "    # batch 단위로 학습 진행\n",
        "    for batch in train_dataloader:\n",
        "        x, y = batch\n",
        "        output = model(x)\n",
        "\n",
        "        loss = criterion(output, y)\n",
        "\n",
        "        optimizer.zero_grad()\n",
        "        loss.backward()\n",
        "        optimizer.step()\n",
        "\n",
        "        cost += loss\n",
        "\n",
        "    cost = cost / len(train_dataloader) # batch 평균 손실값 계산\n",
        "\n",
        "    if (epoch + 1) % 1000 == 0:\n",
        "        print(f\"Epoch : {epoch+1:4d}, Model : {list(model.parameters())}, Cost : {cost:.3f}\")"
      ],
      "metadata": {
        "colab": {
          "base_uri": "https://localhost:8080/"
        },
        "id": "sZJYJCRLYdWT",
        "outputId": "e98d304c-a4a4-4e5e-857a-c7ec5e74904f"
      },
      "id": "sZJYJCRLYdWT",
      "execution_count": null,
      "outputs": [
        {
          "output_type": "stream",
          "name": "stdout",
          "text": [
            "Epoch : 1000, Model : [Parameter containing:\n",
            "tensor([[0.5092, 0.2116],\n",
            "        [0.7116, 0.5305]], requires_grad=True), Parameter containing:\n",
            "tensor([-0.2558, -0.0863], requires_grad=True)], Cost : 0.061\n",
            "Epoch : 2000, Model : [Parameter containing:\n",
            "tensor([[0.6914, 0.1173],\n",
            "        [0.7705, 0.5000]], requires_grad=True), Parameter containing:\n",
            "tensor([-0.5323, -0.1756], requires_grad=True)], Cost : 0.016\n",
            "Epoch : 3000, Model : [Parameter containing:\n",
            "tensor([[0.7841, 0.0692],\n",
            "        [0.8005, 0.4845]], requires_grad=True), Parameter containing:\n",
            "tensor([-0.6731, -0.2211], requires_grad=True)], Cost : 0.004\n",
            "Epoch : 4000, Model : [Parameter containing:\n",
            "tensor([[0.8315, 0.0448],\n",
            "        [0.8158, 0.4766]], requires_grad=True), Parameter containing:\n",
            "tensor([-0.7449, -0.2443], requires_grad=True)], Cost : 0.001\n",
            "Epoch : 5000, Model : [Parameter containing:\n",
            "tensor([[0.8556, 0.0324],\n",
            "        [0.8235, 0.4726]], requires_grad=True), Parameter containing:\n",
            "tensor([-0.7814, -0.2561], requires_grad=True)], Cost : 0.000\n",
            "Epoch : 6000, Model : [Parameter containing:\n",
            "tensor([[0.8678, 0.0260],\n",
            "        [0.8275, 0.4705]], requires_grad=True), Parameter containing:\n",
            "tensor([-0.8001, -0.2621], requires_grad=True)], Cost : 0.000\n",
            "Epoch : 7000, Model : [Parameter containing:\n",
            "tensor([[0.8741, 0.0228],\n",
            "        [0.8295, 0.4695]], requires_grad=True), Parameter containing:\n",
            "tensor([-0.8096, -0.2652], requires_grad=True)], Cost : 0.000\n",
            "Epoch : 8000, Model : [Parameter containing:\n",
            "tensor([[0.8773, 0.0211],\n",
            "        [0.8306, 0.4689]], requires_grad=True), Parameter containing:\n",
            "tensor([-0.8144, -0.2668], requires_grad=True)], Cost : 0.000\n",
            "Epoch : 9000, Model : [Parameter containing:\n",
            "tensor([[0.8789, 0.0203],\n",
            "        [0.8311, 0.4687]], requires_grad=True), Parameter containing:\n",
            "tensor([-0.8169, -0.2675], requires_grad=True)], Cost : 0.000\n",
            "Epoch : 10000, Model : [Parameter containing:\n",
            "tensor([[0.8797, 0.0199],\n",
            "        [0.8313, 0.4685]], requires_grad=True), Parameter containing:\n",
            "tensor([-0.8181, -0.2680], requires_grad=True)], Cost : 0.000\n",
            "Epoch : 11000, Model : [Parameter containing:\n",
            "tensor([[0.8801, 0.0196],\n",
            "        [0.8315, 0.4684]], requires_grad=True), Parameter containing:\n",
            "tensor([-0.8188, -0.2682], requires_grad=True)], Cost : 0.000\n",
            "Epoch : 12000, Model : [Parameter containing:\n",
            "tensor([[0.8804, 0.0195],\n",
            "        [0.8316, 0.4684]], requires_grad=True), Parameter containing:\n",
            "tensor([-0.8191, -0.2683], requires_grad=True)], Cost : 0.000\n",
            "Epoch : 13000, Model : [Parameter containing:\n",
            "tensor([[0.8805, 0.0195],\n",
            "        [0.8316, 0.4684]], requires_grad=True), Parameter containing:\n",
            "tensor([-0.8192, -0.2683], requires_grad=True)], Cost : 0.000\n",
            "Epoch : 14000, Model : [Parameter containing:\n",
            "tensor([[0.8805, 0.0194],\n",
            "        [0.8316, 0.4684]], requires_grad=True), Parameter containing:\n",
            "tensor([-0.8193, -0.2683], requires_grad=True)], Cost : 0.000\n",
            "Epoch : 15000, Model : [Parameter containing:\n",
            "tensor([[0.8806, 0.0194],\n",
            "        [0.8316, 0.4684]], requires_grad=True), Parameter containing:\n",
            "tensor([-0.8194, -0.2684], requires_grad=True)], Cost : 0.000\n",
            "Epoch : 16000, Model : [Parameter containing:\n",
            "tensor([[0.8806, 0.0194],\n",
            "        [0.8316, 0.4684]], requires_grad=True), Parameter containing:\n",
            "tensor([-0.8194, -0.2684], requires_grad=True)], Cost : 0.000\n",
            "Epoch : 17000, Model : [Parameter containing:\n",
            "tensor([[0.8806, 0.0194],\n",
            "        [0.8316, 0.4684]], requires_grad=True), Parameter containing:\n",
            "tensor([-0.8194, -0.2684], requires_grad=True)], Cost : 0.000\n",
            "Epoch : 18000, Model : [Parameter containing:\n",
            "tensor([[0.8806, 0.0194],\n",
            "        [0.8316, 0.4684]], requires_grad=True), Parameter containing:\n",
            "tensor([-0.8194, -0.2684], requires_grad=True)], Cost : 0.000\n",
            "Epoch : 19000, Model : [Parameter containing:\n",
            "tensor([[0.8806, 0.0194],\n",
            "        [0.8316, 0.4684]], requires_grad=True), Parameter containing:\n",
            "tensor([-0.8194, -0.2684], requires_grad=True)], Cost : 0.000\n",
            "Epoch : 20000, Model : [Parameter containing:\n",
            "tensor([[0.8806, 0.0194],\n",
            "        [0.8316, 0.4684]], requires_grad=True), Parameter containing:\n",
            "tensor([-0.8194, -0.2684], requires_grad=True)], Cost : 0.000\n"
          ]
        }
      ]
    }
  ],
  "metadata": {
    "kernelspec": {
      "display_name": "Python 3 (ipykernel)",
      "language": "python",
      "name": "python3"
    },
    "language_info": {
      "codemirror_mode": {
        "name": "ipython",
        "version": 3
      },
      "file_extension": ".py",
      "mimetype": "text/x-python",
      "name": "python",
      "nbconvert_exporter": "python",
      "pygments_lexer": "ipython3",
      "version": "3.9.13"
    },
    "colab": {
      "provenance": []
    }
  },
  "nbformat": 4,
  "nbformat_minor": 5
}