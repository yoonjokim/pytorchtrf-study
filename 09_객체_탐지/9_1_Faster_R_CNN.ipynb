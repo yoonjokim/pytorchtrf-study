{
  "cells": [
    {
      "cell_type": "code",
      "execution_count": null,
      "metadata": {
        "id": "y3kB7CkRxO9k"
      },
      "outputs": [],
      "source": [
        "import os\n",
        "import torch\n",
        "from PIL import Image\n",
        "from pycocotools.coco import COCO\n",
        "from torch.utils.data import Dataset\n",
        "\n",
        "\n",
        "class COCODataset(Dataset):\n",
        "    def __init__(self, root, train, transform=None):\n",
        "        super().__init__()\n",
        "        # get dataset directory and annotation json file path\n",
        "        directory = \"train\" if train else \"val\"\n",
        "        annotations = os.path.join(root, \"annotations\", f\"{directory}_annotations.json\")\n",
        "\n",
        "        self.coco = COCO(annotations) # preprocess json file\n",
        "        self.iamge_path = os.path.join(root, directory)\n",
        "        self.transform = transform\n",
        "\n",
        "        self.categories = self._get_categories()\n",
        "        self.data = self._load_data()\n",
        "\n",
        "    def _get_categories(self):\n",
        "        # class lables\n",
        "        categories = {0: \"background\"}\n",
        "        for category in self.coco.cats.values():\n",
        "            categories[category[\"id\"]] = category[\"name\"]\n",
        "        return categories\n",
        "\n",
        "    def _load_data(self):\n",
        "        # load data from pathes and preprocess as dictionary\n",
        "        data = []\n",
        "        for _id in self.coco.imgs:\n",
        "            file_name = self.coco.loadImgs(_id)[0][\"file_name\"]\n",
        "            image_path = os.path.join(self.iamge_path, file_name)\n",
        "            image = Image.open(image_path).convert(\"RGB\")\n",
        "\n",
        "            boxes = []\n",
        "            labels = []\n",
        "            anns = self.coco.loadAnns(self.coco.getAnnIds(_id))\n",
        "            for ann in anns:\n",
        "                x, y, w, h = ann[\"bbox\"]\n",
        "\n",
        "                boxes.append([x, y, x + w, y + h])\n",
        "                labels.append(ann[\"category_id\"])\n",
        "\n",
        "            target = {\n",
        "            \"image_id\": torch.LongTensor([_id]),\n",
        "                \"boxes\": torch.FloatTensor(boxes),\n",
        "                \"labels\": torch.LongTensor(labels)\n",
        "            }\n",
        "            data.append([image, target])\n",
        "        return data\n",
        "\n",
        "    def __getitem__(self, index):\n",
        "        image, target = self.data[index]\n",
        "        if self.transform:\n",
        "            image = self.transform(image)\n",
        "        return image, target\n",
        "\n",
        "    def __len__(self):\n",
        "        return len(self.data)"
      ]
    },
    {
      "cell_type": "code",
      "execution_count": null,
      "metadata": {
        "colab": {
          "base_uri": "https://localhost:8080/"
        },
        "id": "wtuRkJmdFmks",
        "outputId": "e0b9ba8a-660b-47b3-9f5e-e08ed7e0c918"
      },
      "outputs": [
        {
          "name": "stdout",
          "output_type": "stream",
          "text": [
            "Mounted at /content/drive\n"
          ]
        }
      ],
      "source": [
        "from google.colab import drive\n",
        "drive.mount('/content/drive')"
      ]
    },
    {
      "cell_type": "code",
      "execution_count": null,
      "metadata": {
        "colab": {
          "base_uri": "https://localhost:8080/"
        },
        "id": "LGy0msM6HFoU",
        "outputId": "b932fbff-921d-4fe3-a3cd-159b01e1a6bb"
      },
      "outputs": [
        {
          "name": "stdout",
          "output_type": "stream",
          "text": [
            "/content/datasets\n"
          ]
        }
      ],
      "source": [
        "'''\n",
        "%cd 압축을 풀 경로\n",
        "!unzip -qq \"압축파일이 있는 경로(절대적)\"\n",
        "'''\n",
        "%cd /content/datasets/\n",
        "!unzip -qq \"/content/drive/MyDrive/coco.zip\""
      ]
    },
    {
      "cell_type": "code",
      "execution_count": null,
      "metadata": {
        "colab": {
          "base_uri": "https://localhost:8080/"
        },
        "id": "IWMZNAzoxP-j",
        "outputId": "234ea07a-d678-4a72-a2b2-b62e4fd43a51"
      },
      "outputs": [
        {
          "name": "stdout",
          "output_type": "stream",
          "text": [
            "loading annotations into memory...\n",
            "Done (t=0.12s)\n",
            "creating index...\n",
            "index created!\n",
            "loading annotations into memory...\n",
            "Done (t=0.01s)\n",
            "creating index...\n",
            "index created!\n"
          ]
        }
      ],
      "source": [
        "from torchvision import transforms\n",
        "from torch.utils.data import DataLoader\n",
        "\n",
        "\n",
        "def collator(batch):\n",
        "    return tuple(zip(*batch))\n",
        "\n",
        "transform = transforms.Compose(\n",
        "    [\n",
        "        transforms.PILToTensor(),\n",
        "        transforms.ConvertImageDtype(dtype=torch.float)\n",
        "    ]\n",
        ")\n",
        "\n",
        "train_dataset = COCODataset(\"/content/datasets\", train=True, transform=transform)\n",
        "test_dataset = COCODataset(\"/content/datasets\", train=False, transform=transform)\n",
        "\n",
        "train_dataloader = DataLoader(\n",
        "    train_dataset, batch_size=4, shuffle=True, drop_last=True, collate_fn=collator\n",
        ")\n",
        "test_dataloader = DataLoader(\n",
        "    test_dataset, batch_size=1, shuffle=True, drop_last=True, collate_fn=collator\n",
        ")"
      ]
    },
    {
      "cell_type": "code",
      "execution_count": null,
      "metadata": {
        "colab": {
          "base_uri": "https://localhost:8080/"
        },
        "id": "OGxdcNfewrcC",
        "outputId": "d3b42387-981e-4b21-c508-d9817ab12f3e"
      },
      "outputs": [
        {
          "name": "stderr",
          "output_type": "stream",
          "text": [
            "Downloading: \"https://download.pytorch.org/models/vgg16-397923af.pth\" to /root/.cache/torch/hub/checkpoints/vgg16-397923af.pth\n",
            "100%|██████████| 528M/528M [00:06<00:00, 89.4MB/s]\n"
          ]
        }
      ],
      "source": [
        "from torchvision import models\n",
        "from torchvision import ops\n",
        "from torchvision.models.detection import rpn\n",
        "from torchvision.models.detection import FasterRCNN\n",
        "\n",
        "# Feature extractor\n",
        "backbone = models.vgg16(weights=\"VGG16_Weights.IMAGENET1K_V1\").features\n",
        "backbone.out_channels = 512\n",
        "\n",
        "# Region proposal\n",
        "# Determine the size and ratio of the anchor\n",
        "anchor_generator = rpn.AnchorGenerator(\n",
        "    sizes=((32, 64, 128, 256, 512),),\n",
        "    aspect_ratios=((0.5, 1.0, 2.0),)\n",
        ")\n",
        "# ROI pooling: get multi-scale feature maps from CNN and changes feature map size to output_size\n",
        "roi_pooler = ops.MultiScaleRoIAlign(\n",
        "    featmap_names=[\"0\"], # feature map name\n",
        "    output_size=(7, 7),\n",
        "    sampling_ratio=2\n",
        ")\n",
        "\n",
        "device = \"cuda\" if torch.cuda.is_available() else \"cpu\"\n",
        "\n",
        "# define model using torchvision model\n",
        "model = FasterRCNN(\n",
        "    backbone=backbone,\n",
        "    num_classes=3,\n",
        "    rpn_anchor_generator=anchor_generator,\n",
        "    box_roi_pool=roi_pooler\n",
        ").to(device)"
      ]
    },
    {
      "cell_type": "code",
      "execution_count": null,
      "metadata": {
        "id": "RuhvpiLew6UL"
      },
      "outputs": [],
      "source": [
        "from torch import optim\n",
        "\n",
        "# set trainable parameters, optimizer, and lr\n",
        "params = [p for p in model.parameters() if p.requires_grad]\n",
        "optimizer = optim.SGD(params, lr=0.001, momentum=0.9, weight_decay=0.0005)\n",
        "lr_scheduler = optim.lr_scheduler.StepLR(optimizer, step_size=5, gamma=0.1)\n"
      ]
    },
    {
      "cell_type": "code",
      "execution_count": null,
      "metadata": {
        "colab": {
          "base_uri": "https://localhost:8080/"
        },
        "id": "4N4LSU5jH9K_",
        "outputId": "47829b61-f699-4015-eaf5-d3e328eea513"
      },
      "outputs": [
        {
          "name": "stdout",
          "output_type": "stream",
          "text": [
            "Epoch :    1, Cost : 0.452\n",
            "Epoch :    2, Cost : 0.307\n",
            "Epoch :    3, Cost : 0.283\n",
            "Epoch :    4, Cost : 0.266\n",
            "Epoch :    5, Cost : 0.256\n"
          ]
        }
      ],
      "source": [
        "    cost = 0.0\n",
        "    for idx, (images, targets) in enumerate(train_dataloader):\n",
        "        images = list(image.to(device) for image in images)\n",
        "        targets = [{k: v.to(device) for k, v in t.items()} for t in targets]\n",
        "\n",
        "        loss_dict = model(images, targets)\n",
        "        losses = sum(loss for loss in loss_dict.values())\n",
        "\n",
        "        optimizer.zero_grad()\n",
        "        losses.backward()\n",
        "        optimizer.step()\n",
        "\n",
        "        cost += losses\n",
        "\n",
        "    lr_scheduler.step()\n",
        "    cost = cost / len(train_dataloader)\n",
        "    print(f\"Epoch : {epoch+1:4d}, Cost : {cost:.3f}\")\n"
      ]
    },
    {
      "cell_type": "code",
      "execution_count": null,
      "metadata": {
        "colab": {
          "background_save": true
        },
        "id": "fIo221GtH-4S"
      },
      "outputs": [],
      "source": [
        "import numpy as np\n",
        "from PIL import Image\n",
        "from matplotlib import pyplot as plt\n",
        "from torchvision.transforms.functional import to_pil_image\n",
        "\n",
        "\n",
        "def draw_bbox(ax, box, text, color):\n",
        "    ax.add_patch(\n",
        "        plt.Rectangle(\n",
        "            xy=(box[0], box[1]),\n",
        "            width=box[2] - box[0],\n",
        "            height=box[3] - box[1],\n",
        "            fill=False,\n",
        "            edgecolor=color,\n",
        "            linewidth=2,\n",
        "        )\n",
        "    )\n",
        "    ax.annotate(\n",
        "        text=text,\n",
        "        xy=(box[0] - 5, box[1] - 5),\n",
        "        color=color,\n",
        "        weight=\"bold\",\n",
        "        fontsize=13,\n",
        "    )\n",
        "\n",
        "threshold = 0.5\n",
        "categories = test_dataset.categories\n",
        "with torch.no_grad():\n",
        "    model.eval()\n",
        "    for images, targets in test_dataloader:\n",
        "        images = [image.to(device) for image in images]\n",
        "        outputs = model(images)\n",
        "\n",
        "        boxes = outputs[0][\"boxes\"].to(\"cpu\").numpy()\n",
        "        labels = outputs[0][\"labels\"].to(\"cpu\").numpy()\n",
        "        scores = outputs[0][\"scores\"].to(\"cpu\").numpy()\n",
        "\n",
        "        boxes = boxes[scores >= threshold].astype(np.int32)\n",
        "        labels = labels[scores >= threshold]\n",
        "        scores = scores[scores >= threshold]\n",
        "\n",
        "        fig = plt.figure(figsize=(8, 8))\n",
        "        ax = fig.add_subplot(1, 1, 1)\n",
        "        plt.imshow(to_pil_image(images[0]))\n",
        "\n",
        "        for box, label, score in zip(boxes, labels, scores):\n",
        "            draw_bbox(ax, box, f\"{categories[label]} - {score:.4f}\", \"red\")\n",
        "\n",
        "        tboxes = targets[0][\"boxes\"].numpy()\n",
        "        tlabels = targets[0][\"labels\"].numpy()\n",
        "        for box, label in zip(tboxes, tlabels):\n",
        "            draw_bbox(ax, box, f\"{categories[label]}\", \"blue\")\n",
        "\n",
        "        plt.show()"
      ]
    },
    {
      "cell_type": "code",
      "execution_count": null,
      "metadata": {
        "colab": {
          "base_uri": "https://localhost:8080/"
        },
        "id": "KLHD3mTwIAwM",
        "outputId": "bba4912d-d0d0-44f0-ca3c-da86a984252a"
      },
      "outputs": [
        {
          "name": "stdout",
          "output_type": "stream",
          "text": [
            "Loading and preparing results...\n",
            "Converting ndarray to lists...\n",
            "(1531, 7)\n",
            "0/1531\n",
            "DONE (t=0.01s)\n",
            "creating index...\n",
            "index created!\n",
            "Running per image evaluation...\n",
            "Evaluate annotation type *bbox*\n",
            "DONE (t=0.13s).\n",
            "Accumulating evaluation results...\n",
            "DONE (t=0.06s).\n",
            " Average Precision  (AP) @[ IoU=0.50:0.95 | area=   all | maxDets=100 ] = 0.247\n",
            " Average Precision  (AP) @[ IoU=0.50      | area=   all | maxDets=100 ] = 0.613\n",
            " Average Precision  (AP) @[ IoU=0.75      | area=   all | maxDets=100 ] = 0.158\n",
            " Average Precision  (AP) @[ IoU=0.50:0.95 | area= small | maxDets=100 ] = 0.036\n",
            " Average Precision  (AP) @[ IoU=0.50:0.95 | area=medium | maxDets=100 ] = 0.247\n",
            " Average Precision  (AP) @[ IoU=0.50:0.95 | area= large | maxDets=100 ] = 0.258\n",
            " Average Recall     (AR) @[ IoU=0.50:0.95 | area=   all | maxDets=  1 ] = 0.330\n",
            " Average Recall     (AR) @[ IoU=0.50:0.95 | area=   all | maxDets= 10 ] = 0.445\n",
            " Average Recall     (AR) @[ IoU=0.50:0.95 | area=   all | maxDets=100 ] = 0.446\n",
            " Average Recall     (AR) @[ IoU=0.50:0.95 | area= small | maxDets=100 ] = 0.055\n",
            " Average Recall     (AR) @[ IoU=0.50:0.95 | area=medium | maxDets=100 ] = 0.379\n",
            " Average Recall     (AR) @[ IoU=0.50:0.95 | area= large | maxDets=100 ] = 0.503\n"
          ]
        }
      ],
      "source": [
        "import numpy as np\n",
        "from pycocotools.cocoeval import COCOeval\n",
        "\n",
        "\n",
        "with torch.no_grad():\n",
        "    model.eval()\n",
        "    coco_detections = []\n",
        "    for images, targets in test_dataloader:\n",
        "        images = [img.to(device) for img in images]\n",
        "        outputs = model(images)\n",
        "\n",
        "        for i in range(len(targets)):\n",
        "            image_id = targets[i][\"image_id\"].data.cpu().numpy().tolist()[0]\n",
        "            boxes = outputs[i][\"boxes\"].data.cpu().numpy()\n",
        "            boxes[:, 2] = boxes[:, 2] - boxes[:, 0]\n",
        "            boxes[:, 3] = boxes[:, 3] - boxes[:, 1]\n",
        "            scores = outputs[i][\"scores\"].data.cpu().numpy()\n",
        "            labels = outputs[i][\"labels\"].data.cpu().numpy()\n",
        "\n",
        "            for instance_id in range(len(boxes)):\n",
        "                box = boxes[instance_id, :].tolist()\n",
        "                prediction = np.array(\n",
        "                    [\n",
        "                        image_id,\n",
        "                        box[0],\n",
        "                        box[1],\n",
        "                        box[2],\n",
        "                        box[3],\n",
        "                        float(scores[instance_id]),\n",
        "                        int(labels[instance_id]),\n",
        "                    ]\n",
        "                )\n",
        "                coco_detections.append(prediction)\n",
        "\n",
        "    coco_detections = np.asarray(coco_detections)\n",
        "    coco_gt = test_dataloader.dataset.coco\n",
        "    coco_dt = coco_gt.loadRes(coco_detections)\n",
        "    coco_evaluator = COCOeval(coco_gt, coco_dt, iouType=\"bbox\")\n",
        "    coco_evaluator.evaluate()\n",
        "    coco_evaluator.accumulate()\n",
        "    coco_evaluator.summarize()"
      ]
    },
    {
      "cell_type": "code",
      "execution_count": null,
      "metadata": {
        "id": "OoY9z5tMICpV"
      },
      "outputs": [],
      "source": []
    }
  ],
  "metadata": {
    "accelerator": "GPU",
    "colab": {
      "gpuType": "T4",
      "provenance": []
    },
    "kernelspec": {
      "display_name": "Python 3",
      "name": "python3"
    },
    "language_info": {
      "name": "python"
    }
  },
  "nbformat": 4,
  "nbformat_minor": 0
}
