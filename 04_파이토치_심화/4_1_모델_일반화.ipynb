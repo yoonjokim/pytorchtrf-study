{
  "cells": [
    {
      "cell_type": "markdown",
      "source": [
        "### Overfitting, underfitting\n",
        "- overfitting: 모델이 학습 데이터에만 맞게 학습되어 새로운 데이터에 대한 예측을 잘 하지 못하는 현상\n",
        "- underfitting: 모델이 학습 데이터를 제대로 학습하지 못하는 현상\n",
        "\n",
        "### Bias-variance trade off\n",
        "- variance: 학습 데이터의 작은 변화에 모델이 과하게 민감하게 반응하는 경우 variance ↑ overfitting ↑\n",
        "- bias: 실제 데이터는 4차인데 모델을 2차로 가정하는 것과 같이 모델을 잘못 가정해서 학습 데이터를 제대로 학습하지 못하는 경우 bias ↑ underfitting ↑\n",
        "\n",
        "### 모델의 일반화 성능을 높이기 위한 방법\n",
        "- 학습 데이터 수집/증강: 학습 데이터를 늘려 모델이 일반적인 규칙을 잘 학습할 수 있도록 함\n",
        "- 모델 변경: 학습 데이터에 비해 너무 복잡한 모델을 사용하는 경우 overfitting이 잘 발생할 수 있고, 학습 데이터에 비해 너무 간단한 모델을 사용하는 경우 underfitting이 잘 발생할 수 있음.\n",
        "- early stoppnig: overfitting 발생 전 모델 학습 중단\n",
        "- batch normalization: hidden layer 별 입력값의 분표를 정규화해줌\n",
        "- weight initialization: 가중치의 초기값을 적절하게 설정함. Xavier, Kaiming 등.\n",
        "- regularization: 모델의 일반화를 위해 손실 함수에 패널티를 주는 방식. L1, L2, weight decay, dropout 등.\n"
      ],
      "metadata": {
        "id": "rQIgTcOJzkTT"
      },
      "id": "rQIgTcOJzkTT"
    }
  ],
  "metadata": {
    "kernelspec": {
      "display_name": "Python 3",
      "name": "python3"
    },
    "language_info": {
      "codemirror_mode": {
        "name": "ipython",
        "version": 3
      },
      "file_extension": ".py",
      "mimetype": "text/x-python",
      "name": "python",
      "nbconvert_exporter": "python",
      "pygments_lexer": "ipython3",
      "version": "3.9.13"
    },
    "colab": {
      "provenance": [],
      "gpuType": "T4"
    },
    "accelerator": "GPU"
  },
  "nbformat": 4,
  "nbformat_minor": 5
}